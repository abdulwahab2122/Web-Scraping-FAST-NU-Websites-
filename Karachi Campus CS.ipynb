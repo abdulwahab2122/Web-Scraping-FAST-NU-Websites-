{
 "cells": [
  {
   "cell_type": "code",
   "execution_count": 14,
   "id": "3e89f07b",
   "metadata": {},
   "outputs": [],
   "source": [
    "import requests\n",
    "from bs4 import BeautifulSoup\n",
    "import pandas as pd"
   ]
  },
  {
   "cell_type": "code",
   "execution_count": 15,
   "id": "494eaca4",
   "metadata": {},
   "outputs": [
    {
     "name": "stdout",
     "output_type": "stream",
     "text": [
      "<Response [200]>\n"
     ]
    }
   ],
   "source": [
    "URL = 'https://khi.nu.edu.pk/faculty-php/'\n",
    "r = requests.get(URL)\n",
    "print(r)"
   ]
  },
  {
   "cell_type": "code",
   "execution_count": 16,
   "id": "68f34bb3",
   "metadata": {},
   "outputs": [],
   "source": [
    "soup = BeautifulSoup(r.content, 'html.parser')"
   ]
  },
  {
   "cell_type": "code",
   "execution_count": 17,
   "id": "339747aa",
   "metadata": {},
   "outputs": [],
   "source": [
    "id_=[]\n",
    "name=[]\n",
    "desig=[]\n",
    "bool_hec=[]\n",
    "education=[]\n",
    "email=[]\n",
    "department=[]\n",
    "extension=[]\n",
    "link_img=[]\n",
    "profile_link=[]"
   ]
  },
  {
   "cell_type": "code",
   "execution_count": 18,
   "id": "e60014ba",
   "metadata": {},
   "outputs": [
    {
     "name": "stdout",
     "output_type": "stream",
     "text": [
      "52\n"
     ]
    }
   ],
   "source": [
    "cs_dept= soup.find('div', class_ ='gdlr-core-pbf-section')\n",
    "cs_dept=soup.findAll('div',class_='gdlr-core-personnel-list-column')\n",
    "print(len(cs_dept))"
   ]
  },
  {
   "cell_type": "code",
   "execution_count": 19,
   "id": "0268ad5d",
   "metadata": {},
   "outputs": [],
   "source": [
    "for i in range(len(cs_dept)):\n",
    "    faculty = cs_dept[i]\n",
    "    id_.append([i])\n",
    "    name.append(faculty.find('h3', class_='gdlr-core-personnel-list-title').a.text.strip().split(',')[0])\n",
    "    desig.append(faculty.find('div', class_='gdlr-core-personnel-list-position').text)\n",
    "    email.append(faculty.find('div', class_ = 'kingster-type-email').text)\n",
    "    extension.append(faculty.find('div', class_ = 'kingster-type-phone').text)\n",
    "    dept = soup.find('h1', 'kingster-page-title').text\n",
    "    department.append(dept)\n",
    "    profile_link.append(faculty.find('a', class_ = 'gdlr-core-button')['href'])\n",
    "    URL_temp = profile_link[-1] \n",
    "    r_temp = requests.get(URL_temp)\n",
    "    soup_temp = BeautifulSoup(r_temp.content, 'html.parser')\n",
    "    try:\n",
    "        highest_edu = soup_temp.find('span', class_='gdlr-core-icon-list-content').text.strip().split(' ')[0]\n",
    "    except:\n",
    "        pass\n",
    "    education.append(highest_edu)\n",
    "    try:\n",
    "        bool_hec.append('HEC' in (soup_temp.find('span' , class_='gdlr-core-title-item-caption').text.strip().split('\\n')[2]))\n",
    "    except:\n",
    "        bool_hec.append(False)\n",
    "    try:\n",
    "        image_url = soup_temp.find('a', class_ = 'gdlr-core-lightgallery gdlr-core-js')['href']\n",
    "    except:\n",
    "        pass\n",
    "    link_img.append(image_url)\n",
    "         "
   ]
  },
  {
   "cell_type": "code",
   "execution_count": 20,
   "id": "91c554ec",
   "metadata": {},
   "outputs": [
    {
     "name": "stdout",
     "output_type": "stream",
     "text": [
      "52\n",
      "52\n",
      "52\n",
      "52\n",
      "52\n",
      "52\n",
      "52\n",
      "52\n",
      "52\n",
      "52\n"
     ]
    }
   ],
   "source": [
    "print(len(id_))\n",
    "print(len(name))\n",
    "print(len(desig))\n",
    "print(len(department))\n",
    "print(len(email))\n",
    "print(len(extension))\n",
    "print(len(profile_link))\n",
    "print(len(education))\n",
    "print(len(bool_hec))\n",
    "print(len(link_img))\n"
   ]
  },
  {
   "cell_type": "code",
   "execution_count": 21,
   "id": "ed34f239",
   "metadata": {},
   "outputs": [],
   "source": [
    "df = pd.DataFrame({'ID':id_,\n",
    "                  'Name':name,\n",
    "                  'Designation':desig,\n",
    "                   'HEC Approved':bool_hec,\n",
    "                   'Highest Ed.':education,\n",
    "                  'Email':email,\n",
    "                   'Department':department,\n",
    "                   'Extension':extension,\n",
    "                  'Profile':profile_link,\n",
    "                  'Image':link_img})\n",
    "\n",
    "df.to_csv('NUCES_FACULTY_Karachi.csv')"
   ]
  },
  {
   "cell_type": "code",
   "execution_count": 98,
   "id": "803821ff",
   "metadata": {},
   "outputs": [
    {
     "name": "stdout",
     "output_type": "stream",
     "text": [
      "Prof. Dr. Zulfiqar Ali Memon \n"
     ]
    }
   ],
   "source": [
    "h3_tag = soup.find('h3', class_='gdlr-core-personnel-list-title')\n",
    "name = h3_tag.a.text.strip().split(',')[0]\n",
    "print(name)"
   ]
  },
  {
   "cell_type": "code",
   "execution_count": null,
   "id": "60fcd791",
   "metadata": {},
   "outputs": [],
   "source": []
  },
  {
   "cell_type": "code",
   "execution_count": null,
   "id": "3109c301",
   "metadata": {},
   "outputs": [],
   "source": []
  },
  {
   "cell_type": "code",
   "execution_count": 99,
   "id": "71ea7b9a",
   "metadata": {},
   "outputs": [
    {
     "name": "stdout",
     "output_type": "stream",
     "text": [
      "Prof. Dr. Zulfiqar Ali Memon \n"
     ]
    }
   ],
   "source": [
    "name = soup.find('h3', class_='gdlr-core-personnel-list-title').a.text.strip().split(',')[0]\n",
    "print(name)"
   ]
  },
  {
   "cell_type": "code",
   "execution_count": 100,
   "id": "bf8b650e",
   "metadata": {},
   "outputs": [
    {
     "name": "stdout",
     "output_type": "stream",
     "text": [
      "Professor and HoS\n"
     ]
    }
   ],
   "source": [
    "designation = soup.find('div', class_='gdlr-core-personnel-list-position').text\n",
    "print(designation)"
   ]
  },
  {
   "cell_type": "code",
   "execution_count": 101,
   "id": "5dcdaa5e",
   "metadata": {},
   "outputs": [
    {
     "name": "stdout",
     "output_type": "stream",
     "text": [
      "Department of Computer Science\n"
     ]
    }
   ],
   "source": [
    "dept = soup.find('h1', 'kingster-page-title').text\n",
    "print(dept)"
   ]
  },
  {
   "cell_type": "code",
   "execution_count": null,
   "id": "806aa03d",
   "metadata": {},
   "outputs": [],
   "source": []
  },
  {
   "cell_type": "code",
   "execution_count": 30,
   "id": "119737fb",
   "metadata": {},
   "outputs": [
    {
     "name": "stdout",
     "output_type": "stream",
     "text": [
      "zulfiqar.memon@nu.edu.pk\n"
     ]
    }
   ],
   "source": [
    "email = soup.find('div', class_ = 'kingster-type-email').text\n",
    "print(email)"
   ]
  },
  {
   "cell_type": "code",
   "execution_count": 31,
   "id": "853bdb76",
   "metadata": {},
   "outputs": [
    {
     "name": "stdout",
     "output_type": "stream",
     "text": [
      "214\n"
     ]
    }
   ],
   "source": [
    "ext = soup.find('div', class_ = 'kingster-type-phone').text\n",
    "print(ext)"
   ]
  },
  {
   "cell_type": "code",
   "execution_count": 19,
   "id": "6b32395a",
   "metadata": {},
   "outputs": [
    {
     "name": "stdout",
     "output_type": "stream",
     "text": [
      "63\n",
      "https://khi.nu.edu.pk/personnel/prof-dr-zulfiqar-ali-memon-phd/\n"
     ]
    }
   ],
   "source": [
    "profile_link = soup.find('a', class_ = 'gdlr-core-button')['href']\n",
    "print(len(profile_link))\n",
    "print(profile_link)"
   ]
  },
  {
   "cell_type": "code",
   "execution_count": 53,
   "id": "a2376f97",
   "metadata": {},
   "outputs": [
    {
     "name": "stdout",
     "output_type": "stream",
     "text": [
      "<Response [200]>\n"
     ]
    }
   ],
   "source": [
    "URL1 = 'https://khi.nu.edu.pk/personnel/prof-dr-zulfiqar-ali-memon-phd/'\n",
    "r1 = requests.get(URL1)\n",
    "print(r1)"
   ]
  },
  {
   "cell_type": "code",
   "execution_count": 54,
   "id": "c290e31c",
   "metadata": {},
   "outputs": [],
   "source": [
    "soup2 = BeautifulSoup(r1.content, 'html.parser')\n",
    "highest_edu = soup2.find('span', class_='gdlr-core-icon-list-content').text.strip().split(' ')[0]\n",
    "print(highest_edu)"
   ]
  },
  {
   "cell_type": "code",
   "execution_count": 75,
   "id": "38ac61ac",
   "metadata": {},
   "outputs": [
    {
     "name": "stdout",
     "output_type": "stream",
     "text": [
      "HEC Approved PhD Supervisor\n",
      "True\n"
     ]
    }
   ],
   "source": [
    "education = soup2.find('span' , class_='gdlr-core-title-item-caption').text.strip().split('\\n')[2]\n",
    "print(education)\n",
    "HEC_approved = 'HEC' in education\n",
    "print(HEC_approved)"
   ]
  },
  {
   "cell_type": "code",
   "execution_count": 74,
   "id": "33cab12a",
   "metadata": {},
   "outputs": [
    {
     "name": "stdout",
     "output_type": "stream",
     "text": [
      "PhD\n"
     ]
    }
   ],
   "source": []
  },
  {
   "cell_type": "code",
   "execution_count": 77,
   "id": "fd67f559",
   "metadata": {},
   "outputs": [
    {
     "name": "stdout",
     "output_type": "stream",
     "text": [
      "https://khi.nu.edu.pk/wp-content/uploads/2023/01/Dr-Zulfiqar-Ali-Memon-HOS-FSC.png\n"
     ]
    }
   ],
   "source": [
    "image_url = soup2.find('a', class_ = 'gdlr-core-lightgallery gdlr-core-js')['href']\n",
    "print(image_url)"
   ]
  },
  {
   "cell_type": "code",
   "execution_count": 29,
   "id": "e1c1646c",
   "metadata": {},
   "outputs": [
    {
     "ename": "NameError",
     "evalue": "name 'soup2' is not defined",
     "output_type": "error",
     "traceback": [
      "\u001b[1;31m---------------------------------------------------------------------------\u001b[0m",
      "\u001b[1;31mNameError\u001b[0m                                 Traceback (most recent call last)",
      "Cell \u001b[1;32mIn[29], line 1\u001b[0m\n\u001b[1;32m----> 1\u001b[0m highest_educa \u001b[38;5;241m=\u001b[39m \u001b[43msoup2\u001b[49m\u001b[38;5;241m.\u001b[39mfind(\u001b[38;5;124m'\u001b[39m\u001b[38;5;124mspan\u001b[39m\u001b[38;5;124m'\u001b[39m , class_ \u001b[38;5;241m=\u001b[39m \u001b[38;5;124m\"\u001b[39m\u001b[38;5;124mgdlr-core-icon-list-content-wrap\u001b[39m\u001b[38;5;124m\"\u001b[39m)\n\u001b[0;32m      2\u001b[0m \u001b[38;5;28mprint\u001b[39m(\u001b[38;5;28mlen\u001b[39m(highest_educa))\n",
      "\u001b[1;31mNameError\u001b[0m: name 'soup2' is not defined"
     ]
    }
   ],
   "source": [
    "highest_educa = soup2.find('span' , class_ = \"gdlr-core-icon-list-content-wrap\")\n",
    "print(len(highest_educa))"
   ]
  },
  {
   "cell_type": "code",
   "execution_count": null,
   "id": "19e94449",
   "metadata": {},
   "outputs": [],
   "source": []
  },
  {
   "cell_type": "code",
   "execution_count": null,
   "id": "081401dc",
   "metadata": {},
   "outputs": [],
   "source": []
  },
  {
   "cell_type": "code",
   "execution_count": null,
   "id": "c32231ae",
   "metadata": {},
   "outputs": [],
   "source": []
  },
  {
   "cell_type": "code",
   "execution_count": null,
   "id": "c7450796",
   "metadata": {},
   "outputs": [],
   "source": []
  },
  {
   "cell_type": "code",
   "execution_count": null,
   "id": "7fd1adef",
   "metadata": {},
   "outputs": [],
   "source": []
  }
 ],
 "metadata": {
  "kernelspec": {
   "display_name": "Python 3 (ipykernel)",
   "language": "python",
   "name": "python3"
  },
  "language_info": {
   "codemirror_mode": {
    "name": "ipython",
    "version": 3
   },
   "file_extension": ".py",
   "mimetype": "text/x-python",
   "name": "python",
   "nbconvert_exporter": "python",
   "pygments_lexer": "ipython3",
   "version": "3.11.3"
  }
 },
 "nbformat": 4,
 "nbformat_minor": 5
}
