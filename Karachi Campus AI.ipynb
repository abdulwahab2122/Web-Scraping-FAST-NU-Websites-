{
 "cells": [
  {
   "cell_type": "code",
   "execution_count": 1,
   "id": "9f819930",
   "metadata": {},
   "outputs": [],
   "source": [
    "import requests\n",
    "from bs4 import BeautifulSoup\n",
    "import pandas as pd"
   ]
  },
  {
   "cell_type": "code",
   "execution_count": 2,
   "id": "61e24678",
   "metadata": {},
   "outputs": [
    {
     "name": "stdout",
     "output_type": "stream",
     "text": [
      "<Response [200]>\n"
     ]
    }
   ],
   "source": [
    "URL = 'https://khi.nu.edu.pk/department-of-artificial-intelligence/'\n",
    "r = requests.get(URL)\n",
    "print(r)"
   ]
  },
  {
   "cell_type": "code",
   "execution_count": 3,
   "id": "f1b6cd41",
   "metadata": {},
   "outputs": [],
   "source": [
    "soup = BeautifulSoup(r.content, 'html.parser')"
   ]
  },
  {
   "cell_type": "code",
   "execution_count": 4,
   "id": "50d04e58",
   "metadata": {},
   "outputs": [],
   "source": [
    "id_=[]\n",
    "name=[]\n",
    "desig=[]\n",
    "bool_hec=[]\n",
    "education=[]\n",
    "email=[]\n",
    "department=[]\n",
    "extension=[]\n",
    "link_img=[]\n",
    "profile_link=[]"
   ]
  },
  {
   "cell_type": "code",
   "execution_count": 5,
   "id": "b23c608e",
   "metadata": {},
   "outputs": [
    {
     "name": "stdout",
     "output_type": "stream",
     "text": [
      "7\n"
     ]
    }
   ],
   "source": [
    "ai_dept= soup.find('div', class_ ='gdlr-core-pbf-section')\n",
    "ai_dept=soup.findAll('div',class_='gdlr-core-personnel-list-column')\n",
    "print(len(ai_dept))"
   ]
  },
  {
   "cell_type": "code",
   "execution_count": 6,
   "id": "08572969",
   "metadata": {},
   "outputs": [],
   "source": [
    "for i in range(len(ai_dept)):\n",
    "    faculty = ai_dept[i]\n",
    "    id_.append([i])\n",
    "    name.append(faculty.find('h3', class_='gdlr-core-personnel-list-title').a.text.strip().split(',')[0])\n",
    "    desig.append(faculty.find('div', class_='gdlr-core-personnel-list-position').text)\n",
    "    email.append(faculty.find('div', class_ = 'kingster-type-email').text)\n",
    "    extension.append(faculty.find('div', class_ = 'kingster-type-phone').text)\n",
    "    dept = soup.find('h1', 'kingster-page-title').text\n",
    "    department.append(dept)\n",
    "    profile_link.append(faculty.find('a', class_ = 'gdlr-core-button')['href'])\n",
    "    URL_temp = profile_link[-1] \n",
    "    r_temp = requests.get(URL_temp)\n",
    "    soup_temp = BeautifulSoup(r_temp.content, 'html.parser')\n",
    "    try:\n",
    "        highest_edu = soup_temp.find('span', class_='gdlr-core-icon-list-content').text.strip().split(' ')[0]\n",
    "    except:\n",
    "        pass\n",
    "    education.append(highest_edu)\n",
    "    try:\n",
    "        bool_hec.append('HEC' in (soup_temp.find('span' , class_='gdlr-core-title-item-caption').text.strip().split('\\n')[2]))\n",
    "    except:\n",
    "        bool_hec.append(False)\n",
    "    try:\n",
    "        image_url = soup_temp.find('a', class_ = 'gdlr-core-lightgallery gdlr-core-js')['href']\n",
    "    except:\n",
    "        pass\n",
    "    link_img.append(image_url)\n",
    "         "
   ]
  },
  {
   "cell_type": "code",
   "execution_count": 7,
   "id": "b4d76152",
   "metadata": {},
   "outputs": [
    {
     "name": "stdout",
     "output_type": "stream",
     "text": [
      "7\n",
      "7\n",
      "7\n",
      "7\n",
      "7\n",
      "7\n",
      "7\n",
      "7\n",
      "7\n",
      "7\n"
     ]
    }
   ],
   "source": [
    "print(len(id_))\n",
    "print(len(name))\n",
    "print(len(desig))\n",
    "print(len(department))\n",
    "print(len(email))\n",
    "print(len(extension))\n",
    "print(len(profile_link))\n",
    "print(len(education))\n",
    "print(len(bool_hec))\n",
    "print(len(link_img))\n"
   ]
  },
  {
   "cell_type": "code",
   "execution_count": 9,
   "id": "8e25f78b",
   "metadata": {},
   "outputs": [],
   "source": [
    "df = pd.DataFrame({'ID':id_,\n",
    "                  'Name':name,\n",
    "                  'Designation':desig,\n",
    "                   'HEC Approved':bool_hec,\n",
    "                   'Highest Ed.':education,\n",
    "                  'Email':email,\n",
    "                   'Department':department,\n",
    "                   'Extension':extension,\n",
    "                  'Profile':profile_link,\n",
    "                  'Image':link_img})\n",
    "\n",
    "df.to_csv('khi_AI.csv')"
   ]
  },
  {
   "cell_type": "code",
   "execution_count": null,
   "id": "5ec2e006",
   "metadata": {},
   "outputs": [],
   "source": []
  }
 ],
 "metadata": {
  "kernelspec": {
   "display_name": "Python 3 (ipykernel)",
   "language": "python",
   "name": "python3"
  },
  "language_info": {
   "codemirror_mode": {
    "name": "ipython",
    "version": 3
   },
   "file_extension": ".py",
   "mimetype": "text/x-python",
   "name": "python",
   "nbconvert_exporter": "python",
   "pygments_lexer": "ipython3",
   "version": "3.11.3"
  }
 },
 "nbformat": 4,
 "nbformat_minor": 5
}
