{
 "cells": [
  {
   "cell_type": "code",
   "execution_count": 1,
   "id": "bc444741",
   "metadata": {},
   "outputs": [],
   "source": [
    "import requests\n",
    "from bs4 import BeautifulSoup\n",
    "import pandas as pd"
   ]
  },
  {
   "cell_type": "code",
   "execution_count": 2,
   "id": "0c291e1d",
   "metadata": {},
   "outputs": [
    {
     "name": "stderr",
     "output_type": "stream",
     "text": [
      "C:\\Users\\Abdul Wahab\\AppData\\Local\\Temp\\ipykernel_14608\\2441530739.py:7: DeprecationWarning: headless property is deprecated, instead use add_argument('--headless') or add_argument('--headless=new')\n",
      "  options.headless = True\n"
     ]
    }
   ],
   "source": [
    "from selenium import webdriver\n",
    "from selenium.webdriver.common.by import By\n",
    "from selenium.webdriver.chrome.service import Service as ChromeService\n",
    "\n",
    "webdriver_path = 'chromedriver.exe'\n",
    "options = webdriver.ChromeOptions()\n",
    "options.headless = True\n",
    "service = ChromeService(executable_path=webdriver_path)\n",
    "driver = webdriver.Chrome(service=service, options=options)"
   ]
  },
  {
   "cell_type": "code",
   "execution_count": 3,
   "id": "dd594e3b",
   "metadata": {},
   "outputs": [],
   "source": [
    "URL = 'http://isb.nu.edu.pk/Faculty/allfaculty'\n",
    "driver.get(URL)\n",
    "driver.implicitly_wait(10)\n"
   ]
  },
  {
   "cell_type": "code",
   "execution_count": 4,
   "id": "56163d02",
   "metadata": {},
   "outputs": [],
   "source": [
    "id_=[]\n",
    "name=[]\n",
    "desig=[]\n",
    "bool_hec=[]\n",
    "education=[]\n",
    "email=[]\n",
    "department=[]\n",
    "extension=[]\n",
    "link_img=[]\n",
    "profile_link=[]"
   ]
  },
  {
   "cell_type": "code",
   "execution_count": 5,
   "id": "02225f52",
   "metadata": {},
   "outputs": [],
   "source": [
    "#f = driver.find_elements(By.CLASS_NAME, 'our-team')\n",
    "#print(len(f))\n",
    "#cs = driver.find_elements(By.ID, 'facultyCS')\n",
    "#print(len(cs))\n",
    "\n",
    "#name = f.find_element(By.CLASS_NAME, 'title').text\n",
    "#name"
   ]
  },
  {
   "cell_type": "code",
   "execution_count": 6,
   "id": "98c5af76",
   "metadata": {},
   "outputs": [
    {
     "name": "stdout",
     "output_type": "stream",
     "text": [
      "204\n",
      "Waseem Shahzad\n"
     ]
    }
   ],
   "source": [
    "faculty = driver.find_elements(By.CLASS_NAME,'our-team')\n",
    "print(len(faculty))\n",
    "print(faculty[0].find_element(By.CLASS_NAME, 'title').text)"
   ]
  },
  {
   "cell_type": "code",
   "execution_count": 7,
   "id": "7e009e88",
   "metadata": {},
   "outputs": [],
   "source": [
    "for i in range(len(faculty)):\n",
    "    temp = faculty[i]\n",
    "    name.append(temp.find_element(By.CLASS_NAME, 'title').text)\n",
    "    desig.append(temp.find_element(By.CLASS_NAME, 'post').text)\n",
    "    email.append(temp.find_element(By.TAG_NAME,'p').text)\n",
    "    profile_link.append(temp.find_element(By.TAG_NAME, 'a').get_attribute('href'))\n",
    "    id_.append(int(temp.find_element(By.TAG_NAME, 'a').get_attribute('href').split('/')[-1]))\n",
    "    imgl = temp.find_element(By.CLASS_NAME, 'pic')\n",
    "    imgl = imgl.find_element(By.TAG_NAME, 'img').get_attribute('src')\n",
    "    link_img.append(imgl)\n",
    "    dept = imgl.split('/')[-2]\n",
    "    department.append(dept)"
   ]
  },
  {
   "cell_type": "code",
   "execution_count": 35,
   "id": "cac1d328",
   "metadata": {},
   "outputs": [
    {
     "name": "stdout",
     "output_type": "stream",
     "text": [
      "204\n",
      "204\n"
     ]
    }
   ],
   "source": [
    "extension=[]\n",
    "bool_hec=[]\n",
    "for i in range(len(profile_link)):\n",
    "    temp2 = profile_link[i]\n",
    "    driver.get(temp2)\n",
    "    info = driver.find_element(By.CLASS_NAME,'profile-info')\n",
    "    #info = info.find_elements(By.TAG_NAME, 'p')\n",
    "    temp3 = info.text.splitlines()\n",
    "    \n",
    "    try:  \n",
    "        hec = temp3[2]\n",
    "        hec = 'HEC' in hec\n",
    "        bool_hec.append(hec)\n",
    "    except:\n",
    "        bool_hec.append(False)\n",
    "    try:\n",
    "        extension.append(int(temp3[-1].split('Ext:')[-1]))\n",
    "    except:\n",
    "        extension.append(-1)\n",
    "    \n",
    "    \n",
    "print(len(extension))\n",
    "print(len(bool_hec))\n"
   ]
  },
  {
   "cell_type": "code",
   "execution_count": 36,
   "id": "bdf775e9",
   "metadata": {},
   "outputs": [
    {
     "name": "stdout",
     "output_type": "stream",
     "text": [
      "204\n",
      "204\n",
      "204\n",
      "204\n",
      "204\n",
      "204\n",
      "['CS', 'CS', 'CS', 'CS', 'CS', 'CS', 'CS', 'CS', 'CS', 'CS', 'CS', 'CS', 'CS', 'CS', 'CS', 'CS', 'CS', 'CS', 'CS', 'CS', 'CS', 'CS', 'CS', 'CS', 'CS', 'CS', 'CS', 'CS', 'CS', 'CS', 'CS', 'CS', 'CS', 'CS', 'CS', 'CS', 'CS', 'CS', 'CS', 'CS', 'CS', 'CS', 'CS', 'CS', 'CS', 'CS', 'CS', 'CS', 'CS', 'CS', 'CS', 'CS', 'CS', 'CS', 'CS', 'CS', 'CS', 'CS', 'CS', 'CS', 'CS', 'CS', 'CS', 'CS', 'CS', 'CS', 'CS', 'CS', 'CS', 'CS', 'CS', 'CS', 'CS', 'CS', 'CS', 'CS', 'CS', 'CS', 'CS', 'CS', 'CS', 'CS', 'CS', 'CS', 'CS', 'CS', 'CS', 'CS', 'CS', 'CS', 'CS', 'CS', 'CS', 'CS', 'CS', 'CS', 'CS', 'CS', 'CS', 'CS', 'CS', 'CS', 'CS', 'CS', 'CS', 'CS', 'CS', 'CS', 'CS', 'CS', 'CS', 'CS', 'FSM', 'CS', 'CS', 'CS', 'CS', 'CS', 'CS', 'CS', 'CS', 'CS', 'EE', 'EE', 'EE', 'EE', 'EE', 'EE', 'EE', 'EE', 'EE', 'EE', 'EE', 'EE', 'EE', 'EE', 'EE', 'EE', 'EE', 'EE', 'user', 'EE', 'EE', 'EE', 'EE', 'EE', 'EE', 'EE', 'EE', 'EE', 'EE', 'EE', 'EE', 'EE', 'EE', 'EE', 'CS', 'FSM', 'FSM', 'FSM', 'FSM', 'FSM', 'FSM', 'FSM', 'FSM', 'FSM', 'FSM', 'FSM', 'FSM', 'FSM', 'FSM', 'FSM', 'FSM', 'FSM', 'FSM', 'FSM', 'FSM', 'FSM', 'FSM', 'SH', 'FSM', 'FSM', 'FSM', 'FSM', 'CS', 'FSM', 'FSM', 'SH', 'SH', 'SH', 'SH', 'SH', 'SH', 'SH', 'SH', 'SH', 'SH', 'SH', 'SH', 'SH', 'user', 'user', 'SH', 'SH']\n",
      "204\n"
     ]
    }
   ],
   "source": [
    "print(len(name))\n",
    "print(len(id_))\n",
    "print(len(desig))\n",
    "print(len(email))\n",
    "print(len(profile_link))\n",
    "print(len(link_img))\n",
    "print(department)\n",
    "print(len(department))\n"
   ]
  },
  {
   "cell_type": "code",
   "execution_count": 37,
   "id": "57f2058d",
   "metadata": {},
   "outputs": [],
   "source": [
    "df = pd.DataFrame({'ID':id_,\n",
    "                  'Name':name,\n",
    "                  'Designation':desig,\n",
    "                   'HEC Approved':bool_hec,\n",
    "                  'Email':email,\n",
    "                   'Department':department,\n",
    "                   'Extension':extension,\n",
    "                  'Profile':profile_link,\n",
    "                  'Image':link_img})\n",
    "\n",
    "df.to_csv('NUCES_FACULTY_Islamabad.csv')"
   ]
  },
  {
   "cell_type": "code",
   "execution_count": null,
   "id": "e79357a8",
   "metadata": {},
   "outputs": [],
   "source": [
    " try:\n",
    "        info = driver.find_elements(By.CLASS_NAME,'profile-info')\n",
    "        temp = info[0].text.splitlines()\n",
    "        hec = temp[2]\n",
    "        hec = 'HEC' in hec\n",
    "        bool_hec.append(hec)\n",
    "    except:\n",
    "        bool_hec.append(False)"
   ]
  },
  {
   "cell_type": "code",
   "execution_count": null,
   "id": "343d54e5",
   "metadata": {},
   "outputs": [],
   "source": []
  },
  {
   "cell_type": "code",
   "execution_count": 106,
   "id": "dab68f98",
   "metadata": {},
   "outputs": [
    {
     "data": {
      "text/plain": [
       "'CS'"
      ]
     },
     "execution_count": 106,
     "metadata": {},
     "output_type": "execute_result"
    }
   ],
   "source": [
    "temp = faculty[0]\n",
    "name = temp.find_element(By.CLASS_NAME, 'title').text\n",
    "name\n",
    "dept = temp.find_element(By.CLASS_NAME, 'pic')\n",
    "dept = dept.find_element(By.TAG_NAME, 'img').get_attribute('src').split('/')[-2]\n",
    "dept"
   ]
  },
  {
   "cell_type": "code",
   "execution_count": null,
   "id": "7022e07c",
   "metadata": {},
   "outputs": [],
   "source": []
  },
  {
   "cell_type": "code",
   "execution_count": 40,
   "id": "b9df1b7e",
   "metadata": {},
   "outputs": [
    {
     "data": {
      "text/plain": [
       "'Director & Professor'"
      ]
     },
     "execution_count": 40,
     "metadata": {},
     "output_type": "execute_result"
    }
   ],
   "source": [
    "desig = temp.find_element(By.CLASS_NAME, 'post').text\n",
    "desig"
   ]
  },
  {
   "cell_type": "code",
   "execution_count": 41,
   "id": "9f24c20c",
   "metadata": {},
   "outputs": [
    {
     "data": {
      "text/plain": [
       "'waseem.shahzad@nu.edu.pk'"
      ]
     },
     "execution_count": 41,
     "metadata": {},
     "output_type": "execute_result"
    }
   ],
   "source": [
    "email = temp.find_element(By.TAG_NAME,'p').text\n",
    "email"
   ]
  },
  {
   "cell_type": "code",
   "execution_count": 42,
   "id": "5ef7eed3",
   "metadata": {},
   "outputs": [
    {
     "data": {
      "text/plain": [
       "'http://isb.nu.edu.pk/Faculty/Details/4553'"
      ]
     },
     "execution_count": 42,
     "metadata": {},
     "output_type": "execute_result"
    }
   ],
   "source": [
    "profile_link = temp.find_element(By.TAG_NAME, 'a').get_attribute('href')\n",
    "profile_link"
   ]
  },
  {
   "cell_type": "code",
   "execution_count": 43,
   "id": "c7d20281",
   "metadata": {},
   "outputs": [
    {
     "data": {
      "text/plain": [
       "4553"
      ]
     },
     "execution_count": 43,
     "metadata": {},
     "output_type": "execute_result"
    }
   ],
   "source": [
    "id_ = int(temp.find_element(By.TAG_NAME, 'a').get_attribute('href').split('/')[-1])\n",
    "id_"
   ]
  },
  {
   "cell_type": "code",
   "execution_count": 13,
   "id": "b3fa13e7",
   "metadata": {},
   "outputs": [
    {
     "data": {
      "text/plain": [
       "'http://isb.nu.edu.pk/Images/Profile/CS/4553.jpg'"
      ]
     },
     "execution_count": 13,
     "metadata": {},
     "output_type": "execute_result"
    }
   ],
   "source": [
    "link_img = temp.find_element(By.ID, 'myImage4553').get_attribute('src')\n",
    "link_img"
   ]
  },
  {
   "cell_type": "code",
   "execution_count": 19,
   "id": "b4299b03",
   "metadata": {},
   "outputs": [],
   "source": [
    "URL2 = 'http://isb.nu.edu.pk/Faculty/Details/4553'\n",
    "driver.get(URL2)\n",
    "driver.implicitly_wait(10)"
   ]
  },
  {
   "cell_type": "code",
   "execution_count": 20,
   "id": "38af1ad7",
   "metadata": {},
   "outputs": [
    {
     "data": {
      "text/plain": [
       "True"
      ]
     },
     "execution_count": 20,
     "metadata": {},
     "output_type": "execute_result"
    }
   ],
   "source": [
    "info = driver.find_elements(By.CLASS_NAME,'profile-info')\n",
    "temp = info[0].text.splitlines()\n",
    "temp\n",
    "bool_hec = temp[2]\n",
    "bool_hec = 'HEC' in bool_hec\n",
    "bool_hec"
   ]
  },
  {
   "cell_type": "code",
   "execution_count": 21,
   "id": "d682de2e",
   "metadata": {},
   "outputs": [
    {
     "data": {
      "text/plain": [
       "True"
      ]
     },
     "execution_count": 21,
     "metadata": {},
     "output_type": "execute_result"
    }
   ],
   "source": [
    "bool_hec = temp[2]\n",
    "bool_hec = 'HEC' in bool_hec\n",
    "bool_hec"
   ]
  },
  {
   "cell_type": "code",
   "execution_count": 22,
   "id": "daaef485",
   "metadata": {},
   "outputs": [
    {
     "data": {
      "text/plain": [
       "'101'"
      ]
     },
     "execution_count": 22,
     "metadata": {},
     "output_type": "execute_result"
    }
   ],
   "source": [
    "extension = temp[4][-3:]\n",
    "extension"
   ]
  },
  {
   "cell_type": "code",
   "execution_count": 29,
   "id": "a6423105",
   "metadata": {},
   "outputs": [
    {
     "data": {
      "text/plain": [
       "'Ph.D'"
      ]
     },
     "execution_count": 29,
     "metadata": {},
     "output_type": "execute_result"
    }
   ],
   "source": [
    "education = driver.find_element(By.ID, 'DegreeName')\n",
    "education = education.text.splitlines()\n",
    "education[0][0:4]"
   ]
  },
  {
   "cell_type": "code",
   "execution_count": 73,
   "id": "5b756902",
   "metadata": {},
   "outputs": [
    {
     "data": {
      "text/plain": [
       "'http://isb.nu.edu.pk/assets/images/logo.png'"
      ]
     },
     "execution_count": 73,
     "metadata": {},
     "output_type": "execute_result"
    }
   ],
   "source": [
    "link_img = driver.find_element(By.TAG_NAME,'img').get_attribute('src')\n",
    "link_img"
   ]
  },
  {
   "cell_type": "code",
   "execution_count": 102,
   "id": "3d2b6ff7",
   "metadata": {},
   "outputs": [
    {
     "ename": "NoSuchElementException",
     "evalue": "Message: no such element: Unable to locate element: {\"method\":\"css selector\",\"selector\":\"[id=\"myImage4553\"]\"}\n  (Session info: headless chrome=116.0.5845.180); For documentation on this error, please visit: https://www.selenium.dev/documentation/webdriver/troubleshooting/errors#no-such-element-exception\nStacktrace:\n\tGetHandleVerifier [0x00007FF6DDE052A2+57122]\n\t(No symbol) [0x00007FF6DDD7EA92]\n\t(No symbol) [0x00007FF6DDC4E3AB]\n\t(No symbol) [0x00007FF6DDC87D3E]\n\t(No symbol) [0x00007FF6DDC87E2C]\n\t(No symbol) [0x00007FF6DDC7EC3C]\n\t(No symbol) [0x00007FF6DDCA701F]\n\t(No symbol) [0x00007FF6DDC7EB76]\n\t(No symbol) [0x00007FF6DDCA71F0]\n\t(No symbol) [0x00007FF6DDCBEB82]\n\t(No symbol) [0x00007FF6DDCA6DB3]\n\t(No symbol) [0x00007FF6DDC7D2B1]\n\t(No symbol) [0x00007FF6DDC7E494]\n\tGetHandleVerifier [0x00007FF6DE0AEF82+2849794]\n\tGetHandleVerifier [0x00007FF6DE101D24+3189156]\n\tGetHandleVerifier [0x00007FF6DE0FACAF+3160367]\n\tGetHandleVerifier [0x00007FF6DDE96D06+653702]\n\t(No symbol) [0x00007FF6DDD8A208]\n\t(No symbol) [0x00007FF6DDD862C4]\n\t(No symbol) [0x00007FF6DDD863F6]\n\t(No symbol) [0x00007FF6DDD767A3]\n\tBaseThreadInitThunk [0x00007FFB19E67614+20]\n\tRtlUserThreadStart [0x00007FFB1A4026B1+33]\n",
     "output_type": "error",
     "traceback": [
      "\u001b[1;31m---------------------------------------------------------------------------\u001b[0m",
      "\u001b[1;31mNoSuchElementException\u001b[0m                    Traceback (most recent call last)",
      "Cell \u001b[1;32mIn[102], line 1\u001b[0m\n\u001b[1;32m----> 1\u001b[0m dept \u001b[38;5;241m=\u001b[39m \u001b[43mtemp\u001b[49m\u001b[38;5;241;43m.\u001b[39;49m\u001b[43mfind_element\u001b[49m\u001b[43m(\u001b[49m\u001b[43mBy\u001b[49m\u001b[38;5;241;43m.\u001b[39;49m\u001b[43mID\u001b[49m\u001b[43m,\u001b[49m\u001b[43m \u001b[49m\u001b[38;5;124;43m'\u001b[39;49m\u001b[38;5;124;43mmyImage4553\u001b[39;49m\u001b[38;5;124;43m'\u001b[39;49m\u001b[43m)\u001b[49m\u001b[38;5;241m.\u001b[39mget_attribute(\u001b[38;5;124m'\u001b[39m\u001b[38;5;124msrc\u001b[39m\u001b[38;5;124m'\u001b[39m)\u001b[38;5;241m.\u001b[39msplit(\u001b[38;5;124m'\u001b[39m\u001b[38;5;124m/\u001b[39m\u001b[38;5;124m'\u001b[39m)[\u001b[38;5;241m-\u001b[39m\u001b[38;5;241m2\u001b[39m]\n\u001b[0;32m      2\u001b[0m dept\n",
      "File \u001b[1;32m~\\AppData\\Local\\Programs\\Python\\Python311\\Lib\\site-packages\\selenium\\webdriver\\remote\\webelement.py:417\u001b[0m, in \u001b[0;36mWebElement.find_element\u001b[1;34m(self, by, value)\u001b[0m\n\u001b[0;32m    414\u001b[0m     by \u001b[38;5;241m=\u001b[39m By\u001b[38;5;241m.\u001b[39mCSS_SELECTOR\n\u001b[0;32m    415\u001b[0m     value \u001b[38;5;241m=\u001b[39m \u001b[38;5;124mf\u001b[39m\u001b[38;5;124m'\u001b[39m\u001b[38;5;124m[name=\u001b[39m\u001b[38;5;124m\"\u001b[39m\u001b[38;5;132;01m{\u001b[39;00mvalue\u001b[38;5;132;01m}\u001b[39;00m\u001b[38;5;124m\"\u001b[39m\u001b[38;5;124m]\u001b[39m\u001b[38;5;124m'\u001b[39m\n\u001b[1;32m--> 417\u001b[0m \u001b[38;5;28;01mreturn\u001b[39;00m \u001b[38;5;28;43mself\u001b[39;49m\u001b[38;5;241;43m.\u001b[39;49m\u001b[43m_execute\u001b[49m\u001b[43m(\u001b[49m\u001b[43mCommand\u001b[49m\u001b[38;5;241;43m.\u001b[39;49m\u001b[43mFIND_CHILD_ELEMENT\u001b[49m\u001b[43m,\u001b[49m\u001b[43m \u001b[49m\u001b[43m{\u001b[49m\u001b[38;5;124;43m\"\u001b[39;49m\u001b[38;5;124;43musing\u001b[39;49m\u001b[38;5;124;43m\"\u001b[39;49m\u001b[43m:\u001b[49m\u001b[43m \u001b[49m\u001b[43mby\u001b[49m\u001b[43m,\u001b[49m\u001b[43m \u001b[49m\u001b[38;5;124;43m\"\u001b[39;49m\u001b[38;5;124;43mvalue\u001b[39;49m\u001b[38;5;124;43m\"\u001b[39;49m\u001b[43m:\u001b[49m\u001b[43m \u001b[49m\u001b[43mvalue\u001b[49m\u001b[43m}\u001b[49m\u001b[43m)\u001b[49m[\u001b[38;5;124m\"\u001b[39m\u001b[38;5;124mvalue\u001b[39m\u001b[38;5;124m\"\u001b[39m]\n",
      "File \u001b[1;32m~\\AppData\\Local\\Programs\\Python\\Python311\\Lib\\site-packages\\selenium\\webdriver\\remote\\webelement.py:395\u001b[0m, in \u001b[0;36mWebElement._execute\u001b[1;34m(self, command, params)\u001b[0m\n\u001b[0;32m    393\u001b[0m     params \u001b[38;5;241m=\u001b[39m {}\n\u001b[0;32m    394\u001b[0m params[\u001b[38;5;124m\"\u001b[39m\u001b[38;5;124mid\u001b[39m\u001b[38;5;124m\"\u001b[39m] \u001b[38;5;241m=\u001b[39m \u001b[38;5;28mself\u001b[39m\u001b[38;5;241m.\u001b[39m_id\n\u001b[1;32m--> 395\u001b[0m \u001b[38;5;28;01mreturn\u001b[39;00m \u001b[38;5;28;43mself\u001b[39;49m\u001b[38;5;241;43m.\u001b[39;49m\u001b[43m_parent\u001b[49m\u001b[38;5;241;43m.\u001b[39;49m\u001b[43mexecute\u001b[49m\u001b[43m(\u001b[49m\u001b[43mcommand\u001b[49m\u001b[43m,\u001b[49m\u001b[43m \u001b[49m\u001b[43mparams\u001b[49m\u001b[43m)\u001b[49m\n",
      "File \u001b[1;32m~\\AppData\\Local\\Programs\\Python\\Python311\\Lib\\site-packages\\selenium\\webdriver\\remote\\webdriver.py:346\u001b[0m, in \u001b[0;36mWebDriver.execute\u001b[1;34m(self, driver_command, params)\u001b[0m\n\u001b[0;32m    344\u001b[0m response \u001b[38;5;241m=\u001b[39m \u001b[38;5;28mself\u001b[39m\u001b[38;5;241m.\u001b[39mcommand_executor\u001b[38;5;241m.\u001b[39mexecute(driver_command, params)\n\u001b[0;32m    345\u001b[0m \u001b[38;5;28;01mif\u001b[39;00m response:\n\u001b[1;32m--> 346\u001b[0m     \u001b[38;5;28;43mself\u001b[39;49m\u001b[38;5;241;43m.\u001b[39;49m\u001b[43merror_handler\u001b[49m\u001b[38;5;241;43m.\u001b[39;49m\u001b[43mcheck_response\u001b[49m\u001b[43m(\u001b[49m\u001b[43mresponse\u001b[49m\u001b[43m)\u001b[49m\n\u001b[0;32m    347\u001b[0m     response[\u001b[38;5;124m\"\u001b[39m\u001b[38;5;124mvalue\u001b[39m\u001b[38;5;124m\"\u001b[39m] \u001b[38;5;241m=\u001b[39m \u001b[38;5;28mself\u001b[39m\u001b[38;5;241m.\u001b[39m_unwrap_value(response\u001b[38;5;241m.\u001b[39mget(\u001b[38;5;124m\"\u001b[39m\u001b[38;5;124mvalue\u001b[39m\u001b[38;5;124m\"\u001b[39m, \u001b[38;5;28;01mNone\u001b[39;00m))\n\u001b[0;32m    348\u001b[0m     \u001b[38;5;28;01mreturn\u001b[39;00m response\n",
      "File \u001b[1;32m~\\AppData\\Local\\Programs\\Python\\Python311\\Lib\\site-packages\\selenium\\webdriver\\remote\\errorhandler.py:245\u001b[0m, in \u001b[0;36mErrorHandler.check_response\u001b[1;34m(self, response)\u001b[0m\n\u001b[0;32m    243\u001b[0m         alert_text \u001b[38;5;241m=\u001b[39m value[\u001b[38;5;124m\"\u001b[39m\u001b[38;5;124malert\u001b[39m\u001b[38;5;124m\"\u001b[39m]\u001b[38;5;241m.\u001b[39mget(\u001b[38;5;124m\"\u001b[39m\u001b[38;5;124mtext\u001b[39m\u001b[38;5;124m\"\u001b[39m)\n\u001b[0;32m    244\u001b[0m     \u001b[38;5;28;01mraise\u001b[39;00m exception_class(message, screen, stacktrace, alert_text)  \u001b[38;5;66;03m# type: ignore[call-arg]  # mypy is not smart enough here\u001b[39;00m\n\u001b[1;32m--> 245\u001b[0m \u001b[38;5;28;01mraise\u001b[39;00m exception_class(message, screen, stacktrace)\n",
      "\u001b[1;31mNoSuchElementException\u001b[0m: Message: no such element: Unable to locate element: {\"method\":\"css selector\",\"selector\":\"[id=\"myImage4553\"]\"}\n  (Session info: headless chrome=116.0.5845.180); For documentation on this error, please visit: https://www.selenium.dev/documentation/webdriver/troubleshooting/errors#no-such-element-exception\nStacktrace:\n\tGetHandleVerifier [0x00007FF6DDE052A2+57122]\n\t(No symbol) [0x00007FF6DDD7EA92]\n\t(No symbol) [0x00007FF6DDC4E3AB]\n\t(No symbol) [0x00007FF6DDC87D3E]\n\t(No symbol) [0x00007FF6DDC87E2C]\n\t(No symbol) [0x00007FF6DDC7EC3C]\n\t(No symbol) [0x00007FF6DDCA701F]\n\t(No symbol) [0x00007FF6DDC7EB76]\n\t(No symbol) [0x00007FF6DDCA71F0]\n\t(No symbol) [0x00007FF6DDCBEB82]\n\t(No symbol) [0x00007FF6DDCA6DB3]\n\t(No symbol) [0x00007FF6DDC7D2B1]\n\t(No symbol) [0x00007FF6DDC7E494]\n\tGetHandleVerifier [0x00007FF6DE0AEF82+2849794]\n\tGetHandleVerifier [0x00007FF6DE101D24+3189156]\n\tGetHandleVerifier [0x00007FF6DE0FACAF+3160367]\n\tGetHandleVerifier [0x00007FF6DDE96D06+653702]\n\t(No symbol) [0x00007FF6DDD8A208]\n\t(No symbol) [0x00007FF6DDD862C4]\n\t(No symbol) [0x00007FF6DDD863F6]\n\t(No symbol) [0x00007FF6DDD767A3]\n\tBaseThreadInitThunk [0x00007FFB19E67614+20]\n\tRtlUserThreadStart [0x00007FFB1A4026B1+33]\n"
     ]
    }
   ],
   "source": [
    "dept = temp.find_element(By.ID, 'myImage4553').get_attribute('src').split('/')[-2]\n",
    "dept"
   ]
  },
  {
   "cell_type": "code",
   "execution_count": null,
   "id": "b4735f77",
   "metadata": {},
   "outputs": [],
   "source": []
  }
 ],
 "metadata": {
  "kernelspec": {
   "display_name": "Python 3 (ipykernel)",
   "language": "python",
   "name": "python3"
  },
  "language_info": {
   "codemirror_mode": {
    "name": "ipython",
    "version": 3
   },
   "file_extension": ".py",
   "mimetype": "text/x-python",
   "name": "python",
   "nbconvert_exporter": "python",
   "pygments_lexer": "ipython3",
   "version": "3.11.3"
  }
 },
 "nbformat": 4,
 "nbformat_minor": 5
}
